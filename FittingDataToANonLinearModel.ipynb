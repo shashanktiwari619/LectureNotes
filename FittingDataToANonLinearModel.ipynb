{
 "cells": [
  {
   "cell_type": "markdown",
   "metadata": {},
   "source": [
    "# The Data\n",
    "Some chemical company has decided to produce chemical $C$ by reacting chemicals $A$ and $B$ semi-batchwise.  They have carried out one long batch run where they sampled at about 1 minute intervals.  Their analytical equipment is such that only the concentrations of $A$ and $C$ could be measured along with the total volume of the reaction mixture (as $A$ is added semi-batch wise) in a solution with concentration $C_{A0}$.  The data is available at <code> kinetic_data.xlsx </code>."
   ]
  },
  {
   "cell_type": "code",
   "execution_count": 1,
   "metadata": {
    "collapsed": true
   },
   "outputs": [],
   "source": [
    "import scipy\n",
    "import scipy.integrate\n",
    "import scipy.optimize\n",
    "import scipy.linalg\n",
    "import scipy.stats\n",
    "import pandas as pd\n",
    "import matplotlib.pyplot as plt\n",
    "%matplotlib inline"
   ]
  },
  {
   "cell_type": "markdown",
   "metadata": {},
   "source": [
    "In the data below, $V$ is in litres, the concentrations are kmol/m3 i.e. mol/litre.  Time is in seconds."
   ]
  },
  {
   "cell_type": "code",
   "execution_count": 2,
   "metadata": {
    "collapsed": false
   },
   "outputs": [
    {
     "data": {
      "text/html": [
       "<div>\n",
       "<table border=\"1\" class=\"dataframe\">\n",
       "  <thead>\n",
       "    <tr style=\"text-align: right;\">\n",
       "      <th></th>\n",
       "      <th>Time</th>\n",
       "      <th>V</th>\n",
       "      <th>CA</th>\n",
       "      <th>CC</th>\n",
       "      <th>errV</th>\n",
       "      <th>errCA</th>\n",
       "      <th>errCC</th>\n",
       "    </tr>\n",
       "  </thead>\n",
       "  <tbody>\n",
       "    <tr>\n",
       "      <th>0</th>\n",
       "      <td>0.000000</td>\n",
       "      <td>4.739251</td>\n",
       "      <td>0.000000</td>\n",
       "      <td>0.000000</td>\n",
       "      <td>0.473581</td>\n",
       "      <td>0.000000</td>\n",
       "      <td>0.000000</td>\n",
       "    </tr>\n",
       "    <tr>\n",
       "      <th>1</th>\n",
       "      <td>51.724138</td>\n",
       "      <td>5.644829</td>\n",
       "      <td>0.017682</td>\n",
       "      <td>0.028785</td>\n",
       "      <td>0.491683</td>\n",
       "      <td>0.001768</td>\n",
       "      <td>0.002879</td>\n",
       "    </tr>\n",
       "    <tr>\n",
       "      <th>2</th>\n",
       "      <td>103.448276</td>\n",
       "      <td>5.804559</td>\n",
       "      <td>0.022045</td>\n",
       "      <td>0.068567</td>\n",
       "      <td>0.464215</td>\n",
       "      <td>0.002205</td>\n",
       "      <td>0.006857</td>\n",
       "    </tr>\n",
       "    <tr>\n",
       "      <th>3</th>\n",
       "      <td>155.172414</td>\n",
       "      <td>6.991923</td>\n",
       "      <td>0.020795</td>\n",
       "      <td>0.100657</td>\n",
       "      <td>0.489110</td>\n",
       "      <td>0.002079</td>\n",
       "      <td>0.010066</td>\n",
       "    </tr>\n",
       "    <tr>\n",
       "      <th>4</th>\n",
       "      <td>206.896552</td>\n",
       "      <td>6.863593</td>\n",
       "      <td>0.023613</td>\n",
       "      <td>0.120995</td>\n",
       "      <td>0.467691</td>\n",
       "      <td>0.002361</td>\n",
       "      <td>0.012099</td>\n",
       "    </tr>\n",
       "    <tr>\n",
       "      <th>5</th>\n",
       "      <td>258.620690</td>\n",
       "      <td>7.607078</td>\n",
       "      <td>0.024712</td>\n",
       "      <td>0.147618</td>\n",
       "      <td>0.512939</td>\n",
       "      <td>0.002471</td>\n",
       "      <td>0.014762</td>\n",
       "    </tr>\n",
       "    <tr>\n",
       "      <th>6</th>\n",
       "      <td>310.344828</td>\n",
       "      <td>7.795172</td>\n",
       "      <td>0.026317</td>\n",
       "      <td>0.167573</td>\n",
       "      <td>0.545415</td>\n",
       "      <td>0.002632</td>\n",
       "      <td>0.016757</td>\n",
       "    </tr>\n",
       "    <tr>\n",
       "      <th>7</th>\n",
       "      <td>362.068966</td>\n",
       "      <td>9.353354</td>\n",
       "      <td>0.028408</td>\n",
       "      <td>0.198698</td>\n",
       "      <td>0.461245</td>\n",
       "      <td>0.002841</td>\n",
       "      <td>0.019870</td>\n",
       "    </tr>\n",
       "    <tr>\n",
       "      <th>8</th>\n",
       "      <td>413.793103</td>\n",
       "      <td>9.400610</td>\n",
       "      <td>0.027175</td>\n",
       "      <td>0.192747</td>\n",
       "      <td>0.484113</td>\n",
       "      <td>0.002718</td>\n",
       "      <td>0.019275</td>\n",
       "    </tr>\n",
       "    <tr>\n",
       "      <th>9</th>\n",
       "      <td>465.517241</td>\n",
       "      <td>10.470724</td>\n",
       "      <td>0.029383</td>\n",
       "      <td>0.210341</td>\n",
       "      <td>0.461213</td>\n",
       "      <td>0.002938</td>\n",
       "      <td>0.021034</td>\n",
       "    </tr>\n",
       "    <tr>\n",
       "      <th>10</th>\n",
       "      <td>517.241379</td>\n",
       "      <td>10.316737</td>\n",
       "      <td>0.028798</td>\n",
       "      <td>0.208041</td>\n",
       "      <td>0.504015</td>\n",
       "      <td>0.002880</td>\n",
       "      <td>0.020804</td>\n",
       "    </tr>\n",
       "    <tr>\n",
       "      <th>11</th>\n",
       "      <td>568.965517</td>\n",
       "      <td>10.724739</td>\n",
       "      <td>0.032669</td>\n",
       "      <td>0.237507</td>\n",
       "      <td>0.455047</td>\n",
       "      <td>0.003267</td>\n",
       "      <td>0.023751</td>\n",
       "    </tr>\n",
       "    <tr>\n",
       "      <th>12</th>\n",
       "      <td>620.689655</td>\n",
       "      <td>10.294955</td>\n",
       "      <td>0.036398</td>\n",
       "      <td>0.247002</td>\n",
       "      <td>0.493807</td>\n",
       "      <td>0.003640</td>\n",
       "      <td>0.024700</td>\n",
       "    </tr>\n",
       "    <tr>\n",
       "      <th>13</th>\n",
       "      <td>672.413793</td>\n",
       "      <td>11.298486</td>\n",
       "      <td>0.040008</td>\n",
       "      <td>0.263319</td>\n",
       "      <td>0.522280</td>\n",
       "      <td>0.004001</td>\n",
       "      <td>0.026332</td>\n",
       "    </tr>\n",
       "    <tr>\n",
       "      <th>14</th>\n",
       "      <td>724.137931</td>\n",
       "      <td>13.189253</td>\n",
       "      <td>0.036497</td>\n",
       "      <td>0.242633</td>\n",
       "      <td>0.537087</td>\n",
       "      <td>0.003650</td>\n",
       "      <td>0.024263</td>\n",
       "    </tr>\n",
       "    <tr>\n",
       "      <th>15</th>\n",
       "      <td>775.862069</td>\n",
       "      <td>11.956234</td>\n",
       "      <td>0.041677</td>\n",
       "      <td>0.246759</td>\n",
       "      <td>0.515503</td>\n",
       "      <td>0.004168</td>\n",
       "      <td>0.024676</td>\n",
       "    </tr>\n",
       "    <tr>\n",
       "      <th>16</th>\n",
       "      <td>827.586207</td>\n",
       "      <td>12.183277</td>\n",
       "      <td>0.045874</td>\n",
       "      <td>0.239524</td>\n",
       "      <td>0.529404</td>\n",
       "      <td>0.004587</td>\n",
       "      <td>0.023952</td>\n",
       "    </tr>\n",
       "    <tr>\n",
       "      <th>17</th>\n",
       "      <td>879.310345</td>\n",
       "      <td>12.711386</td>\n",
       "      <td>0.046128</td>\n",
       "      <td>0.261182</td>\n",
       "      <td>0.504210</td>\n",
       "      <td>0.004613</td>\n",
       "      <td>0.026118</td>\n",
       "    </tr>\n",
       "    <tr>\n",
       "      <th>18</th>\n",
       "      <td>931.034483</td>\n",
       "      <td>14.824160</td>\n",
       "      <td>0.051079</td>\n",
       "      <td>0.243074</td>\n",
       "      <td>0.540314</td>\n",
       "      <td>0.005108</td>\n",
       "      <td>0.024307</td>\n",
       "    </tr>\n",
       "    <tr>\n",
       "      <th>19</th>\n",
       "      <td>982.758621</td>\n",
       "      <td>14.698043</td>\n",
       "      <td>0.052830</td>\n",
       "      <td>0.234931</td>\n",
       "      <td>0.486990</td>\n",
       "      <td>0.005283</td>\n",
       "      <td>0.023493</td>\n",
       "    </tr>\n",
       "    <tr>\n",
       "      <th>20</th>\n",
       "      <td>1034.482759</td>\n",
       "      <td>15.436485</td>\n",
       "      <td>0.059472</td>\n",
       "      <td>0.233201</td>\n",
       "      <td>0.480514</td>\n",
       "      <td>0.005947</td>\n",
       "      <td>0.023320</td>\n",
       "    </tr>\n",
       "    <tr>\n",
       "      <th>21</th>\n",
       "      <td>1086.206897</td>\n",
       "      <td>16.147403</td>\n",
       "      <td>0.063523</td>\n",
       "      <td>0.269469</td>\n",
       "      <td>0.484489</td>\n",
       "      <td>0.006352</td>\n",
       "      <td>0.026947</td>\n",
       "    </tr>\n",
       "    <tr>\n",
       "      <th>22</th>\n",
       "      <td>1137.931034</td>\n",
       "      <td>16.183095</td>\n",
       "      <td>0.065473</td>\n",
       "      <td>0.234267</td>\n",
       "      <td>0.521890</td>\n",
       "      <td>0.006547</td>\n",
       "      <td>0.023427</td>\n",
       "    </tr>\n",
       "    <tr>\n",
       "      <th>23</th>\n",
       "      <td>1189.655172</td>\n",
       "      <td>17.769129</td>\n",
       "      <td>0.066332</td>\n",
       "      <td>0.273167</td>\n",
       "      <td>0.465434</td>\n",
       "      <td>0.006633</td>\n",
       "      <td>0.027317</td>\n",
       "    </tr>\n",
       "    <tr>\n",
       "      <th>24</th>\n",
       "      <td>1241.379310</td>\n",
       "      <td>17.380646</td>\n",
       "      <td>0.077967</td>\n",
       "      <td>0.235864</td>\n",
       "      <td>0.528013</td>\n",
       "      <td>0.007797</td>\n",
       "      <td>0.023586</td>\n",
       "    </tr>\n",
       "    <tr>\n",
       "      <th>25</th>\n",
       "      <td>1293.103448</td>\n",
       "      <td>18.717145</td>\n",
       "      <td>0.083368</td>\n",
       "      <td>0.247428</td>\n",
       "      <td>0.537527</td>\n",
       "      <td>0.008337</td>\n",
       "      <td>0.024743</td>\n",
       "    </tr>\n",
       "    <tr>\n",
       "      <th>26</th>\n",
       "      <td>1344.827586</td>\n",
       "      <td>18.784561</td>\n",
       "      <td>0.086258</td>\n",
       "      <td>0.212774</td>\n",
       "      <td>0.534451</td>\n",
       "      <td>0.008626</td>\n",
       "      <td>0.021277</td>\n",
       "    </tr>\n",
       "    <tr>\n",
       "      <th>27</th>\n",
       "      <td>1396.551724</td>\n",
       "      <td>18.148753</td>\n",
       "      <td>0.090816</td>\n",
       "      <td>0.244866</td>\n",
       "      <td>0.535628</td>\n",
       "      <td>0.009082</td>\n",
       "      <td>0.024487</td>\n",
       "    </tr>\n",
       "    <tr>\n",
       "      <th>28</th>\n",
       "      <td>1448.275862</td>\n",
       "      <td>20.610287</td>\n",
       "      <td>0.093609</td>\n",
       "      <td>0.202616</td>\n",
       "      <td>0.535296</td>\n",
       "      <td>0.009361</td>\n",
       "      <td>0.020262</td>\n",
       "    </tr>\n",
       "    <tr>\n",
       "      <th>29</th>\n",
       "      <td>1500.000000</td>\n",
       "      <td>20.593345</td>\n",
       "      <td>0.100909</td>\n",
       "      <td>0.218738</td>\n",
       "      <td>0.520871</td>\n",
       "      <td>0.010091</td>\n",
       "      <td>0.021874</td>\n",
       "    </tr>\n",
       "  </tbody>\n",
       "</table>\n",
       "</div>"
      ],
      "text/plain": [
       "           Time          V        CA        CC      errV     errCA     errCC\n",
       "0      0.000000   4.739251  0.000000  0.000000  0.473581  0.000000  0.000000\n",
       "1     51.724138   5.644829  0.017682  0.028785  0.491683  0.001768  0.002879\n",
       "2    103.448276   5.804559  0.022045  0.068567  0.464215  0.002205  0.006857\n",
       "3    155.172414   6.991923  0.020795  0.100657  0.489110  0.002079  0.010066\n",
       "4    206.896552   6.863593  0.023613  0.120995  0.467691  0.002361  0.012099\n",
       "5    258.620690   7.607078  0.024712  0.147618  0.512939  0.002471  0.014762\n",
       "6    310.344828   7.795172  0.026317  0.167573  0.545415  0.002632  0.016757\n",
       "7    362.068966   9.353354  0.028408  0.198698  0.461245  0.002841  0.019870\n",
       "8    413.793103   9.400610  0.027175  0.192747  0.484113  0.002718  0.019275\n",
       "9    465.517241  10.470724  0.029383  0.210341  0.461213  0.002938  0.021034\n",
       "10   517.241379  10.316737  0.028798  0.208041  0.504015  0.002880  0.020804\n",
       "11   568.965517  10.724739  0.032669  0.237507  0.455047  0.003267  0.023751\n",
       "12   620.689655  10.294955  0.036398  0.247002  0.493807  0.003640  0.024700\n",
       "13   672.413793  11.298486  0.040008  0.263319  0.522280  0.004001  0.026332\n",
       "14   724.137931  13.189253  0.036497  0.242633  0.537087  0.003650  0.024263\n",
       "15   775.862069  11.956234  0.041677  0.246759  0.515503  0.004168  0.024676\n",
       "16   827.586207  12.183277  0.045874  0.239524  0.529404  0.004587  0.023952\n",
       "17   879.310345  12.711386  0.046128  0.261182  0.504210  0.004613  0.026118\n",
       "18   931.034483  14.824160  0.051079  0.243074  0.540314  0.005108  0.024307\n",
       "19   982.758621  14.698043  0.052830  0.234931  0.486990  0.005283  0.023493\n",
       "20  1034.482759  15.436485  0.059472  0.233201  0.480514  0.005947  0.023320\n",
       "21  1086.206897  16.147403  0.063523  0.269469  0.484489  0.006352  0.026947\n",
       "22  1137.931034  16.183095  0.065473  0.234267  0.521890  0.006547  0.023427\n",
       "23  1189.655172  17.769129  0.066332  0.273167  0.465434  0.006633  0.027317\n",
       "24  1241.379310  17.380646  0.077967  0.235864  0.528013  0.007797  0.023586\n",
       "25  1293.103448  18.717145  0.083368  0.247428  0.537527  0.008337  0.024743\n",
       "26  1344.827586  18.784561  0.086258  0.212774  0.534451  0.008626  0.021277\n",
       "27  1396.551724  18.148753  0.090816  0.244866  0.535628  0.009082  0.024487\n",
       "28  1448.275862  20.610287  0.093609  0.202616  0.535296  0.009361  0.020262\n",
       "29  1500.000000  20.593345  0.100909  0.218738  0.520871  0.010091  0.021874"
      ]
     },
     "execution_count": 2,
     "metadata": {},
     "output_type": "execute_result"
    }
   ],
   "source": [
    "df_kinetic_data = pd.read_excel(\"kinetic_data.xlsx\", sheetname=\"Data\")\n",
    "df_kinetic_data"
   ]
  },
  {
   "cell_type": "markdown",
   "metadata": {},
   "source": [
    "This we have to fit to a model and extract parameters and uncertainties.  The model is necessarily non-linear. Unlike the linear models, there is no simple analytical way to get the best fit parameters.  These have to be obtained by numerical iteration.  So let's first make our model.  "
   ]
  },
  {
   "cell_type": "markdown",
   "metadata": {},
   "source": [
    "Let's postulate:\n",
    "$$\n",
    "    A + B \\rightarrow C\n",
    "$$\n",
    "We have no reason, right now, to assume anything else.  "
   ]
  },
  {
   "cell_type": "markdown",
   "metadata": {
    "collapsed": true
   },
   "source": [
    "We will skip over the shell balances etc and just write down the differential equations:\n",
    "$$\n",
    "    \\frac{dN_A}{dt} = v_0C_{A0} - Vk_{AB}C_AC_B \n",
    "$$\n",
    "where $v_0$ is the volumetric rate of addition of the solution of A with concentration $C_{A0}$ and $k_{AB}$ is the kinetic constant for the reaction.\n",
    "$$\n",
    "    \\frac{dN_B}{dt} = -Vk_{AB}C_AC_B\n",
    "$$\n",
    "And,\n",
    "$$\n",
    "    \\frac{dN_C}{dt} = Vk_{AB}C_AC_B\n",
    "$$\n",
    "And last, but not the least,\n",
    "$$\n",
    "    \\frac{dV}{dt} = v_0\n",
    "$$"
   ]
  },
  {
   "cell_type": "markdown",
   "metadata": {},
   "source": [
    "### Model 1\n",
    "Let's turn this into code."
   ]
  },
  {
   "cell_type": "code",
   "execution_count": 3,
   "metadata": {
    "collapsed": true
   },
   "outputs": [],
   "source": [
    "def model1(SV, t, parameters):\n",
    "    [NA, NB, NC, V] = SV\n",
    "    \n",
    "    kAB = parameters[\"kAB\"]\n",
    "    v0 = parameters[\"v0\"]\n",
    "    CA0 = parameters[\"CA0\"]\n",
    "    \n",
    "    CA = NA/V\n",
    "    CB = NB/V\n",
    "    CC = NC/V\n",
    "    \n",
    "    dNAbydt = -V*kAB*CA*CB + v0*CA0\n",
    "    dNBbydt = -V*kAB*CA*CB\n",
    "    dNCbydt =  V*kAB*CA*CB\n",
    "    dVbydt  =  v0\n",
    "    \n",
    "    return [dNAbydt, dNBbydt, dNCbydt, dVbydt]"
   ]
  },
  {
   "cell_type": "markdown",
   "metadata": {},
   "source": [
    "Let's assume we know $C_{A0}$ = 0.5 $\\frac{kmol}{m^3}$.  Also, the concentration of $B$ in the vessel is $C_{B0} = 1.0$ kmol/m3.  We need to find $k_{AB}$ and $v_0$.  Why do we have to find $v_0$?  Because the people who did the experiment did not keep tabs of it.  They just dribbled in the solution of $A$ through a an overflow and forgot to measure the flowrate.  Fortunately, their level indicator did keep a record of the volume in the vessel. \n",
    "\n",
    "To estimate these parameters we have to follow an iterative procedure.  We guess the parameters, find out the profiles corresponding to these guesses.  Compare with the experimental results.  And refine the guess.  This can all be outsourced to powerful optimization algorithms.  We just have to write the function for getting the $\\chi^2$.\n"
   ]
  },
  {
   "cell_type": "markdown",
   "metadata": {},
   "source": [
    "Now let's prepare our parameters.  The unknown ones we guess."
   ]
  },
  {
   "cell_type": "code",
   "execution_count": 4,
   "metadata": {
    "collapsed": true
   },
   "outputs": [],
   "source": [
    "parameters = {\n",
    "    \"CA0\":0.5, #kmol/m3\n",
    "    \"CB0\":1.0, #kmol/m3\n",
    "    \"kAB\":0.01, #SI units  GUESS (a very naive guess!).  Retry with a guess of 0.01\n",
    "    \"v0\":0.01e-3, #m3/s GUESS (a very naive guess!)         Retry with a guess of 0.01e-3\n",
    "}"
   ]
  },
  {
   "cell_type": "code",
   "execution_count": 5,
   "metadata": {
    "collapsed": true
   },
   "outputs": [],
   "source": [
    "def solution1(parameters, df_kinetic_data):\n",
    "    #Get the independent variable\n",
    "    t = df_kinetic_data[\"Time\"]\n",
    "    \n",
    "    #Lets prepare our SV0\n",
    "    V0 = df_kinetic_data.iloc[0][\"V\"]*0.001 #V0 is in litres.  Convert to m3\n",
    "    NA0 = df_kinetic_data.iloc[0][\"CA\"]*V0 #kmol\n",
    "    NB0 = parameters[\"CB0\"]*V0 #kmol\n",
    "    NC0 = df_kinetic_data.iloc[0][\"CC\"]*V0 #kmol\n",
    "    SV0 = [NA0, NB0, NC0, V0] \n",
    "    \n",
    "    #Solve with best guess of the parameters to be fitted\n",
    "    solution = scipy.integrate.odeint(model1, SV0, t, args=(parameters,))\n",
    "    NA = solution[:,0]\n",
    "    V = solution[:,3]  #be careful with the indices!\n",
    "    CA_calc = NA/V\n",
    "    \n",
    "    return CA_calc"
   ]
  },
  {
   "cell_type": "markdown",
   "metadata": {
    "collapsed": true
   },
   "source": [
    "Now we need to get the residuals.  Let's, for a start, try to predict only $C_A$. Hence we wish to minimize:\n",
    "$$\n",
    "    \\chi^2_{A} = \\sum_i{\\left(\\frac{C_{Ai}^{(calc)}-C_{Ai}^{(exp)}}{\\sigma_{C_{Ai}}}\\right)^2}\n",
    "$$\n",
    "where $\\sigma_{C_Ai}$ is the uncertainty in $C_{Ai}$.  We will be using the powerful optimizaton module <code> scipy.optimize.least_squares</code>.  You can see how it works by typing <code>help(scipy.optimize.least_squares)</code> in a code cell.  To do so, it requires that you write a function take takes in values of the guess parameters are returns an array of residuals i.e. an array of $\\left(\\frac{C_{Ai}^{(calc)}-C_{Ai}^{(exp)}}{\\sigma_{C_{Ai}}}\\right)$.  It will spit out the optimized parameters.  So let's do that.\n"
   ]
  },
  {
   "cell_type": "code",
   "execution_count": 6,
   "metadata": {
    "collapsed": true
   },
   "outputs": [],
   "source": [
    "def get_residuals(parameters_to_fit, parameters, df_kinetic_data):\n",
    "    CA_expt = df_kinetic_data.iloc[1:][\"CA\"]   # we are not going to fit the initial condition\n",
    "    errCA = df_kinetic_data.iloc[1:][\"errCA\"]\n",
    "    \n",
    "    [kAB, v0] = parameters_to_fit #The values here (first argument to the function) are automatically modified for optimization\n",
    "    parameters[\"kAB\"] = kAB  #Now we have our best guess of kAB\n",
    "    parameters[\"v0\"] = v0    #And our best guess of v0\n",
    "    \n",
    "    CA_calc = solution1(parameters, df_kinetic_data)\n",
    "    \n",
    "    CA_calc = CA_calc[1:] #We are not fitting the initial condition.\n",
    "    residuals = (CA_calc - CA_expt)/errCA #This generates the array of residuals.  \n",
    "    return residuals\n",
    "    "
   ]
  },
  {
   "cell_type": "markdown",
   "metadata": {},
   "source": [
    "Now let's deploy the optimization algorithm! "
   ]
  },
  {
   "cell_type": "code",
   "execution_count": 7,
   "metadata": {
    "collapsed": false
   },
   "outputs": [],
   "source": [
    "optimized_parameters = scipy.optimize.least_squares(get_residuals, #our function\n",
    "                                                    [parameters[\"kAB\"], parameters[\"v0\"]], #initial guess of parameters\n",
    "                                                    args = (parameters, df_kinetic_data,)) #other important arguments"
   ]
  },
  {
   "cell_type": "markdown",
   "metadata": {},
   "source": [
    "From the help section of this module (<code>help(scipy.optimize.least_squares)</code>), we see that the object that we have caught in the variable called <code>optimized_parameters</code> is actually a dictionary with several keys.  Two of them are important to us: <code>'x'</code> which returns the optimized parameters and <code>'cost'</code> which returns a measure of the poorness of the fit: this value should be as low as possible.  So let's see what we have."
   ]
  },
  {
   "cell_type": "code",
   "execution_count": 8,
   "metadata": {
    "collapsed": false
   },
   "outputs": [
    {
     "data": {
      "text/plain": [
       "(array([  4.10512427e-02,   8.38836121e-06]), 2.5097412261286367)"
      ]
     },
     "execution_count": 8,
     "metadata": {},
     "output_type": "execute_result"
    }
   ],
   "source": [
    "optimized_parameters['x'], optimized_parameters['cost']"
   ]
  },
  {
   "cell_type": "markdown",
   "metadata": {},
   "source": [
    "So it has updated $k_{AB}$ and $v_0$."
   ]
  },
  {
   "cell_type": "code",
   "execution_count": 9,
   "metadata": {
    "collapsed": true
   },
   "outputs": [],
   "source": [
    "parameters[\"kAB\"] = optimized_parameters['x'][0]\n",
    "parameters[\"v0\"]  = optimized_parameters['x'][1]\n",
    "CA_calc = solution1(parameters, df_kinetic_data)"
   ]
  },
  {
   "cell_type": "markdown",
   "metadata": {},
   "source": [
    "### Importance of the initial guess\n",
    "Often, if the inital guess is bad, the system will converge to sub-optimal values.  So if your fit is bad, try varying the initial guess to see if that changes anything.  Often it does. "
   ]
  },
  {
   "cell_type": "markdown",
   "metadata": {},
   "source": [
    "## A Quick Dekko\n",
    "Let's have a quick look at the fit.  We will use matplotlib.  "
   ]
  },
  {
   "cell_type": "code",
   "execution_count": 10,
   "metadata": {
    "collapsed": false
   },
   "outputs": [
    {
     "data": {
      "text/plain": [
       "<matplotlib.text.Text at 0x116304f64e0>"
      ]
     },
     "execution_count": 10,
     "metadata": {},
     "output_type": "execute_result"
    },
    {
     "data": {
      "image/png": "[encoded data removed]",
      "text/plain": [
       "<matplotlib.figure.Figure at 0x11630427dd8>"
      ]
     },
     "metadata": {},
     "output_type": "display_data"
    }
   ],
   "source": [
    "plt.errorbar(x=df_kinetic_data[\"Time\"], \n",
    "             y=df_kinetic_data[\"CA\"], \n",
    "             yerr=df_kinetic_data[\"errCA\"],\n",
    "             color = 'r', fmt = 'o', ecolor = 'r', capthick = 2)\n",
    "plt.plot(df_kinetic_data[\"Time\"], CA_calc, 'b')\n",
    "plt.xlabel(\"Time in seconds\")\n",
    "plt.ylabel(\"Concentration of A\")"
   ]
  },
  {
   "cell_type": "markdown",
   "metadata": {},
   "source": [
    "So that's pretty cool!  You can see that the algorithm has really tried to get the best fit given the constraints imposed by our model.  \n",
    "\n",
    "### Analysis of Residuals\n",
    "Let's take a look at the residuals."
   ]
  },
  {
   "cell_type": "code",
   "execution_count": 11,
   "metadata": {
    "collapsed": false
   },
   "outputs": [
    {
     "data": {
      "text/plain": [
       "<matplotlib.text.Text at 0x116308e7128>"
      ]
     },
     "execution_count": 11,
     "metadata": {},
     "output_type": "execute_result"
    },
    {
     "data": {
      "image/png": "[encoded data removed]",
      "text/plain": [
       "<matplotlib.figure.Figure at 0x11630427f28>"
      ]
     },
     "metadata": {},
     "output_type": "display_data"
    }
   ],
   "source": [
    "residuals = get_residuals(optimized_parameters[\"x\"], parameters, df_kinetic_data)\n",
    "plt.scatter(df_kinetic_data.iloc[1:][\"Time\"], residuals, color = 'red')\n",
    "plt.xlabel(\"Time\")\n",
    "plt.ylabel(\"Residuals\")"
   ]
  },
  {
   "cell_type": "markdown",
   "metadata": {},
   "source": [
    "For a good model, the residuals should be normally distributed about zero.  It appears to be the case here.  But we can be quantitative about it using the Shapiro-Wilk test, which tests for normality of a distribution.  This test is availabe to us via the <code>scipy.stats.shapiro</code> module. For more information type <code>help(scipy.stats.shapiro)</code>.  The null hypothesis of this test is that the data is drawn from a normally distributed sample.  At a significance of 95%, the $p$ value of this test should be less than 0.05 for the null hypothesis to be rejected."
   ]
  },
  {
   "cell_type": "code",
   "execution_count": 12,
   "metadata": {
    "collapsed": false
   },
   "outputs": [
    {
     "data": {
      "text/plain": [
       "(0.9651999473571777, 0.4379933476448059)"
      ]
     },
     "execution_count": 12,
     "metadata": {},
     "output_type": "execute_result"
    }
   ],
   "source": [
    "scipy.stats.shapiro(residuals) #first term is the test statistics, second term is the p-value"
   ]
  },
  {
   "cell_type": "markdown",
   "metadata": {},
   "source": [
    "Since the p value is greater than 0.05, we cannot reject the null hypothesis that the residuals are normally distributed. Which means that the residuals _are_ normally distributed.  Great! "
   ]
  },
  {
   "cell_type": "code",
   "execution_count": 13,
   "metadata": {
    "collapsed": false
   },
   "outputs": [
    {
     "data": {
      "text/plain": [
       "(-0.009059280986700148, 0.81523638631570361)"
      ]
     },
     "execution_count": 13,
     "metadata": {},
     "output_type": "execute_result"
    }
   ],
   "source": [
    "scipy.mean(residuals), scipy.sqrt(scipy.var(residuals))*1.96"
   ]
  },
  {
   "cell_type": "markdown",
   "metadata": {},
   "source": [
    "Further, the residuals have a mean of zero within 95% confidence interval.  "
   ]
  },
  {
   "cell_type": "markdown",
   "metadata": {},
   "source": [
    "So this model works!  Let's will do the error analysis for it.  It will familiarize us for what is coming later."
   ]
  },
  {
   "cell_type": "markdown",
   "metadata": {},
   "source": [
    "## Error Analysis\n",
    "First thing we need is to get the Covariance Matrix **$C$**.  For which we need the matrix **$A$**.  However, unlike linear least squares, there are not basis functions here.  The elements of **$A$** are (in a generalized way):\n",
    "$$\n",
    "    A_{ij} = \\frac{\\partial y_{i}^{(calc)}}{\\partial a_j}\\frac{1}{\\sigma_{y_i}} = \\frac{d_{ij}}{\\sigma_{y_i}}\n",
    "$$\n",
    "In our case $y_i^{(calc)} = C_{Ai}^{(calc)}$ and the optimized parameters are $a_0$ corresponding to $k_{AB}$ and $a_1$ corresponding to $v_0$.  The partial derivative is called $d_{ij}$ and works like the $j^{th}$ basis function of the $i^{th}$ observation in a linear-least squares analysis.  This matrix has $N$ rows and 2 columns where $N$ is the number of observations used in the fitting.  In our case that is 29 since we are not using the initial values in the fit.  \n",
    "\n",
    "**NOTE**: Since a residual $r_i = \\left(\\frac{C_{Ai}^{(calc)}-C_{Ai}^{(exp)}}{\\sigma_{C_{Ai}}}\\right)$, we can also write $A_{ij} = \\frac{\\partial r_i}{\\partial a_j}$\n",
    "This will be useful later. \n",
    "\n",
    "Now, the only way of getting the elements is numerically.  So let's do that.  "
   ]
  },
  {
   "cell_type": "code",
   "execution_count": 14,
   "metadata": {
    "collapsed": false
   },
   "outputs": [],
   "source": [
    "kAB_opt, v0_opt = optimized_parameters['x']\n",
    "\n",
    "parameters[\"kAB\"], parameters[\"v0\"] = kAB_opt, v0_opt\n",
    "CA_calc_opt = solution1(parameters, df_kinetic_data)  #CA at optimized parameters\n",
    "\n",
    "dn = 0.0001 #small increment for numerical differentiation \n",
    "\n",
    "parameters[\"kAB\"], parameters[\"v0\"] = kAB_opt*(1+dn), v0_opt\n",
    "CA_calc_1 = solution1(parameters, df_kinetic_data)\n",
    "\n",
    "parameters[\"kAB\"], parameters[\"v0\"] = kAB_opt, v0_opt*(1+dn)\n",
    "CA_calc_2 = solution1(parameters, df_kinetic_data)\n",
    "\n",
    "d1 = (CA_calc_1 - CA_calc_opt)/(kAB_opt*dn) #numerical differentiation\n",
    "d2 = (CA_calc_2 - CA_calc_opt)/(v0_opt *dn) #numerical differentiation\n",
    "#But because we are not taking the initial value,\n",
    "d1 = d1[1:]\n",
    "d2 = d2[1:]"
   ]
  },
  {
   "cell_type": "markdown",
   "metadata": {
    "collapsed": true
   },
   "source": [
    "Now that we have the d's lets get the $A$.  Make sure you understand what the lines of code mean. "
   ]
  },
  {
   "cell_type": "code",
   "execution_count": 15,
   "metadata": {
    "collapsed": false
   },
   "outputs": [],
   "source": [
    "errCA = df_kinetic_data.iloc[1:][\"errCA\"]\n",
    "A = scipy.array([list(d1/errCA), list(d2/errCA)]).T"
   ]
  },
  {
   "cell_type": "markdown",
   "metadata": {},
   "source": [
    "Now let's get the $H$ matrix:"
   ]
  },
  {
   "cell_type": "code",
   "execution_count": 16,
   "metadata": {
    "collapsed": false
   },
   "outputs": [
    {
     "data": {
      "text/plain": [
       "array([[  7.80639554e+05,  -7.85457925e+09],\n",
       "       [ -7.85457925e+09,   1.09851848e+14]])"
      ]
     },
     "execution_count": 16,
     "metadata": {},
     "output_type": "execute_result"
    }
   ],
   "source": [
    "H = scipy.dot(A.T, A)\n",
    "H"
   ]
  },
  {
   "cell_type": "markdown",
   "metadata": {},
   "source": [
    "The inverse of this is the covariance matrix **$C$**.  To get the inverse, we have to use <code>scipy.linalg.inv</code>.  "
   ]
  },
  {
   "cell_type": "code",
   "execution_count": 17,
   "metadata": {
    "collapsed": false
   },
   "outputs": [
    {
     "name": "stdout",
     "output_type": "stream",
     "text": [
      "Covariance Matrix\n",
      "[[  4.56569235e-06   3.26454157e-10]\n",
      " [  3.26454157e-10   3.24451533e-14]]\n",
      "C*H\n",
      "[[ 1.  0.]\n",
      " [ 0.  1.]]\n"
     ]
    }
   ],
   "source": [
    "C = scipy.linalg.inv(H)\n",
    "print('Covariance Matrix')\n",
    "print(C)\n",
    "print(\"C*H\")\n",
    "print(scipy.dot(C, H))"
   ]
  },
  {
   "cell_type": "markdown",
   "metadata": {},
   "source": [
    "Great!  Now we can get the uncertainties in $k_{AB}$ and $v_0$."
   ]
  },
  {
   "cell_type": "code",
   "execution_count": 18,
   "metadata": {
    "collapsed": false
   },
   "outputs": [
    {
     "name": "stdout",
     "output_type": "stream",
     "text": [
      "kAB 0.0410512426746\n",
      "Uncertainty in kAB: 0.00418802623498 i.e. 10.2019475225 percent.\n",
      "95 percent confidence interval for k_AB: ( 0.0368632164396 , 0.0452392689095 )\n"
     ]
    }
   ],
   "source": [
    "print('kAB',parameters[\"kAB\"])\n",
    "print('Uncertainty in kAB:',\n",
    "      1.96*scipy.sqrt(C[0,0]),\n",
    "      'i.e.',\n",
    "      1.96*scipy.sqrt(C[0,0])/parameters[\"kAB\"]*100,\n",
    "      'percent.')\n",
    "print('95 percent confidence interval for k_AB: (',\n",
    "      parameters['kAB']-1.96*scipy.sqrt(C[0,0]),\n",
    "      ',',\n",
    "      parameters['kAB']+1.96*scipy.sqrt(C[0,0]),\n",
    "      ')')"
   ]
  },
  {
   "cell_type": "code",
   "execution_count": 19,
   "metadata": {
    "collapsed": false
   },
   "outputs": [
    {
     "name": "stdout",
     "output_type": "stream",
     "text": [
      "v0 8.38920004268e-06 m3/s\n",
      "Uncertainty in v0: 3.53045748798e-07 m3/s i.e. 4.20833627762 percent.\n",
      "95 percent confidence interval for v0 (m3/s): ( 8.03615429388e-06 , 8.74224579148e-06 )\n"
     ]
    }
   ],
   "source": [
    "print('v0',parameters[\"v0\"], 'm3/s')\n",
    "print('Uncertainty in v0:',\n",
    "      1.96*scipy.sqrt(C[1,1]),'m3/s i.e.'\n",
    "      ,1.96*scipy.sqrt(C[1,1])/parameters[\"v0\"]*100,\n",
    "      'percent.')\n",
    "print('95 percent confidence interval for v0 (m3/s): ('\n",
    "      ,parameters['v0']-1.96*scipy.sqrt(C[1,1]),\n",
    "      ',',\n",
    "      parameters['v0']+1.96*scipy.sqrt(C[1,1]),\n",
    "      ')')"
   ]
  },
  {
   "cell_type": "markdown",
   "metadata": {},
   "source": [
    "### Uncertainty in the best fit.\n",
    "And now for the grand finale (not really, there is more).  The uncertainty in the best fit line.  \n",
    "$$\n",
    "    \\sigma_y(t) = \\matrix{d^T(t)}\\cdot \\matrix{C} \\cdot \\matrix{d(t)}\n",
    "$$\n",
    "Here $\\matrix{d(t)}^T = [d_1(t), d_2(t)]$. <br>\n",
    "**Note**: To calculate $\\matrix{d(t)}$ at any value of $t$, you will have to do the numerical differentiation.  If this is cumbersome, it is best to calculate $\\matrix{d}$ for a large number of values of $t$ and interpolate between them.  We have already done something like this when we got $d_1$ and $d_2$ above."
   ]
  },
  {
   "cell_type": "code",
   "execution_count": 20,
   "metadata": {
    "collapsed": false
   },
   "outputs": [],
   "source": [
    "D = scipy.array([list(d1), list(d2)]).T #Compare with how we got A above."
   ]
  },
  {
   "cell_type": "markdown",
   "metadata": {},
   "source": [
    "Now each _row_ of $D$ is a vector $d(t_j)^T$ corresponding to the $j^{th}$ observation. Hence, the array or uncertainties in the best fit curve is as follows (let's not do any fancy array algebra here.  We will use old-fashioned for loops)."
   ]
  },
  {
   "cell_type": "code",
   "execution_count": 21,
   "metadata": {
    "collapsed": false
   },
   "outputs": [],
   "source": [
    "sigma_CA = []\n",
    "for d in D:\n",
    "    sig = scipy.dot(d, scipy.dot(C, d.T))\n",
    "    sigma_CA.append(1.96*scipy.sqrt(sig)) #Where we have used the 95% interval.\n",
    "sigma_CA = scipy.array(sigma_CA)\n",
    "upper_bound_CA = CA_calc[1:] + sigma_CA\n",
    "lower_bound_CA = CA_calc[1:] - sigma_CA\n",
    "time = df_kinetic_data.iloc[1:][\"Time\"]"
   ]
  },
  {
   "cell_type": "markdown",
   "metadata": {},
   "source": [
    "So let's plot the fit with the error in the best fit line."
   ]
  },
  {
   "cell_type": "code",
   "execution_count": 22,
   "metadata": {
    "collapsed": false
   },
   "outputs": [
    {
     "data": {
      "text/plain": [
       "<matplotlib.text.Text at 0x11630982f60>"
      ]
     },
     "execution_count": 22,
     "metadata": {},
     "output_type": "execute_result"
    },
    {
     "data": {
      "image/png": "[encoded data removed]",
      "text/plain": [
       "<matplotlib.figure.Figure at 0x11630968550>"
      ]
     },
     "metadata": {},
     "output_type": "display_data"
    }
   ],
   "source": [
    "plt.errorbar(x=df_kinetic_data[\"Time\"], \n",
    "             y=df_kinetic_data[\"CA\"], \n",
    "             yerr=df_kinetic_data[\"errCA\"],\n",
    "             color = 'red', fmt = '*', ecolor = 'blue', capthick = 0.05)\n",
    "plt.plot(df_kinetic_data[\"Time\"], CA_calc, 'blue', linewidth = 1.0)\n",
    "plt.fill_between(time, lower_bound_CA, upper_bound_CA, color='cyan', alpha = 0.5)\n",
    "plt.xlabel(\"Time in seconds\")\n",
    "plt.ylabel(\"Concentration of A\")"
   ]
  },
  {
   "cell_type": "markdown",
   "metadata": {},
   "source": [
    "The cyan region is the 95% confidence region of the best fit line.  Notice that the uncertainty grows as time passes.  Pretty cool!     "
   ]
  },
  {
   "cell_type": "markdown",
   "metadata": {},
   "source": [
    "## Effect of Additional Data\n",
    "How about we bring in more data? We have still not used the values of $C_C$.  What difference will bringing those in make?  Well, for one thing, we will have more residuals: those corresponding to $C_A$ and those corresponding to $C_C$.  This brings its own problems, as we will see in a minute.  First, lets modify the <code>solution1</code> function to return $C_A^{(calc)}$ and $C_C^{(calc)}$."
   ]
  },
  {
   "cell_type": "code",
   "execution_count": 23,
   "metadata": {
    "collapsed": true
   },
   "outputs": [],
   "source": [
    "def solution2(parameters, df_kinetic_data):\n",
    "    #Get the independent variable\n",
    "    t = df_kinetic_data[\"Time\"]\n",
    "    \n",
    "    #Lets prepare our SV0\n",
    "    V0 = df_kinetic_data.iloc[0][\"V\"]*0.001 #V0 is in litres.  Convert to m3\n",
    "    NA0 = df_kinetic_data.iloc[0][\"CA\"]*V0 #kmol\n",
    "    NB0 = parameters[\"CB0\"]*V0 #kmol\n",
    "    NC0 = df_kinetic_data.iloc[0][\"CC\"]*V0 #kmol\n",
    "    SV0 = [NA0, NB0, NC0, V0] \n",
    "    \n",
    "    #Solve with best guess of the parameters to be fitted\n",
    "    solution = scipy.integrate.odeint(model1, SV0, t, args=(parameters,))\n",
    "    NA = solution[:,0]\n",
    "    NC = solution[:,2]\n",
    "    V = solution[:,3]  #be careful with the indices!\n",
    "    CA_calc = NA/V\n",
    "    CC_calc = NC/V\n",
    "    \n",
    "    return CA_calc, CC_calc"
   ]
  },
  {
   "cell_type": "markdown",
   "metadata": {},
   "source": [
    "Now we need to get the residuals. But now we have two sets of data.  Hence we wish to minimize, as before:\n",
    "$$\n",
    "    \\chi^2_{A} = \\sum_i{\\left(\\frac{C_{Ai}^{(calc)}-C_{Ai}^{(exp)}}{\\sigma_{C_{Ai}}}\\right)^2}\n",
    "$$\n",
    "where $\\sigma_{C_Ai}$ is the uncertainty in $C_{Ai}$.  \n",
    "But we also wish to minimize:\n",
    "$$\n",
    "    \\chi^2_{C} = \\sum_i{\\left(\\frac{C_{Ci}^{(calc)}-C_{Ci}^{(exp)}}{\\sigma_{C_{Ci}}}\\right)^2}\n",
    "$$\n",
    "where $\\sigma_{C_Ci}$ is the uncertainty in $C_{Ci}$.  \n",
    "\n",
    "So the residual generator that we send to <code> scipy.optimize.least_squares</code> should return an array of residuals of both types i.e. an array of $\\left(\\frac{C_{Ai}^{(calc)}-C_{Ai}^{(exp)}}{\\sigma_{C_{Ai}}}\\right)$ along with an array of $\\left(\\frac{C_{Ci}^{(calc)}-C_{Ci}^{(exp)}}{\\sigma_{C_{Ci}}}\\right)$.  \n",
    "\n",
    "One obvious problem with this arrangement is that the $C_C$ residuals need not be of the same magnitude as the $C_A$ residuals.  If they are smaller, it will automatically mean that the $C_A$ residuals are weighted higher by the algorithm i.e. it will try to fit $C_A$ better at the expense of a poor fit of $C_C$.  We should find a way of making sure both sets of residuals are approximately of the same order.  We can do this straightforwardly be _scaling_ each residual by an appropriate factor.  The simplest way of doing this is by dividing each by the average value of $C_A$ or $C_C$.  Hence the residuals are: $\\left(\\frac{C_{Ai}^{(calc)}-C_{Ai}^{(exp)}}{\\sigma_{C_{Ai}}}\\right) \\frac{1}{C_A^{(average)}}$ and $\\left(\\frac{C_{Ci}^{(calc)}-C_{Ci}^{(exp)}}{\\sigma_{C_{Ci}}}\\right) \\frac{1}{C_C^{(average)}}$. But there are other ways.\n",
    "\n",
    "However, there is another, tricker problem.  All of our error analysis is set up around a single independent variable.  Now we are faced with two (in other cases more).  The general class of such problems is __Multivariate Multiple Regression__ and the theory is pretty dense (see <a href=\"https://scse.d.umn.edu/sites/scse.d.umn.edu/files/cassiequickfinalpaper.pdf\">here</a>).  \n",
    "\n",
    "So we won't do that. We will just send a doubly long array of residuals.  "
   ]
  },
  {
   "cell_type": "code",
   "execution_count": 24,
   "metadata": {
    "collapsed": true
   },
   "outputs": [],
   "source": [
    "def get_residuals2(parameters_to_fit, parameters, df_kinetic_data, bool_signed = False):\n",
    "    CA_expt = df_kinetic_data.iloc[1:][\"CA\"]   # we are not going to fit the initial condition\n",
    "    errCA = df_kinetic_data.iloc[1:][\"errCA\"]\n",
    "    CC_expt = df_kinetic_data.iloc[1:][\"CC\"]\n",
    "    errCC = df_kinetic_data.iloc[1:][\"errCC\"]\n",
    "    \n",
    "    CA_avg = scipy.mean(CA_expt)\n",
    "    CC_avg = scipy.mean(CC_expt)\n",
    "    \n",
    "    wCA = 1.0/CA_avg\n",
    "    wCC = 1.0/CC_avg\n",
    "\n",
    "    [kAB, v0] = parameters_to_fit #The values here (first argument to the function) are automatically modified for optimization\n",
    "    parameters[\"kAB\"] = kAB  #Now we have our best guess of kAB\n",
    "    parameters[\"v0\"] = v0    #And our best guess of v0\n",
    "    \n",
    "    CA_calc, CC_calc = solution2(parameters, df_kinetic_data)\n",
    "    \n",
    "    CA_calc = CA_calc[1:] #We are not fitting the initial condition.\n",
    "    CC_calc = CC_calc[1:]\n",
    "    residuals_CA = wCA*(CA_calc - CA_expt)/errCA \n",
    "    residuals_CC = wCC*(CC_calc - CC_expt)/errCC   \n",
    "    residuals = scipy.concatenate([residuals_CA, residuals_CC])\n",
    "    return residuals"
   ]
  },
  {
   "cell_type": "markdown",
   "metadata": {},
   "source": [
    "Now let's deploy the optimization algorithm! "
   ]
  },
  {
   "cell_type": "code",
   "execution_count": 25,
   "metadata": {
    "collapsed": false
   },
   "outputs": [],
   "source": [
    "kAB_opt, v0_opt = optimized_parameters['x'] #from the earlier model\n",
    "parameters[\"kAB\"], parameters[\"v0\"] = kAB_opt, v0_opt\n",
    "\n",
    "optimized_parameters2 = scipy.optimize.least_squares(get_residuals2, #our function\n",
    "                                                    [parameters[\"kAB\"], parameters[\"v0\"]], #initial guess of parameters\n",
    "                                                    args = (parameters, df_kinetic_data,)) #other important arguments"
   ]
  },
  {
   "cell_type": "code",
   "execution_count": 26,
   "metadata": {
    "collapsed": false
   },
   "outputs": [
    {
     "name": "stdout",
     "output_type": "stream",
     "text": [
      "Initial Guess of Parameters 0.0410512426746 8.38836120656e-06\n",
      "Optimized Parameters [  4.13214504e-02   8.41392954e-06]\n",
      "Cost Function 1564.13464731\n"
     ]
    }
   ],
   "source": [
    "print('Initial Guess of Parameters',kAB_opt, v0_opt)\n",
    "print('Optimized Parameters', optimized_parameters2['x'])\n",
    "print('Cost Function',optimized_parameters2['cost']) "
   ]
  },
  {
   "cell_type": "markdown",
   "metadata": {},
   "source": [
    "So the parameters did change, but not significantly.  They are still within their original uncertainties.   "
   ]
  },
  {
   "cell_type": "markdown",
   "metadata": {},
   "source": [
    "### Another Quick Dekko\n",
    "Lets have a look at the fits. "
   ]
  },
  {
   "cell_type": "code",
   "execution_count": 27,
   "metadata": {
    "collapsed": true
   },
   "outputs": [],
   "source": [
    "parameters[\"kAB\"], parameters[\"v0\"] = optimized_parameters2[\"x\"]\n",
    "CA_calc, CC_calc = solution2(parameters, df_kinetic_data)"
   ]
  },
  {
   "cell_type": "code",
   "execution_count": 28,
   "metadata": {
    "collapsed": false
   },
   "outputs": [
    {
     "data": {
      "image/png": "[encoded data removed]",
      "text/plain": [
       "<matplotlib.figure.Figure at 0x11630982cc0>"
      ]
     },
     "metadata": {},
     "output_type": "display_data"
    }
   ],
   "source": [
    "fig = plt.figure()\n",
    "ax1 = fig.add_subplot(211)\n",
    "ax2 = fig.add_subplot(212)\n",
    "ax1.errorbar(x=df_kinetic_data[\"Time\"], \n",
    "             y=df_kinetic_data[\"CA\"], \n",
    "             yerr=df_kinetic_data[\"errCA\"],\n",
    "             color = 'r', fmt = 'o', ecolor = 'r', capthick = 2)\n",
    "ax1.plot(df_kinetic_data[\"Time\"], CA_calc, 'b')\n",
    "ax1.xaxis.label.set_text(\"Time in seconds\")\n",
    "ax1.yaxis.label.set_text(\"Concentration of A\")\n",
    "\n",
    "ax2.errorbar(x=df_kinetic_data[\"Time\"], \n",
    "             y=df_kinetic_data[\"CC\"], \n",
    "             yerr=df_kinetic_data[\"errCC\"],\n",
    "             color = 'r', fmt = 'o', ecolor = 'r', capthick = 2)\n",
    "ax2.plot(df_kinetic_data[\"Time\"], CC_calc, 'b')\n",
    "ax2.xaxis.label.set_text(\"Time in seconds\")\n",
    "ax2.yaxis.label.set_text(\"Concentration of C\")"
   ]
  },
  {
   "cell_type": "markdown",
   "metadata": {},
   "source": [
    "Oh no!  Correlated residuals!  Not good.  "
   ]
  },
  {
   "cell_type": "code",
   "execution_count": 29,
   "metadata": {
    "collapsed": false
   },
   "outputs": [
    {
     "data": {
      "image/png": "[encoded data removed]",
      "text/plain": [
       "<matplotlib.figure.Figure at 0x11630f3d358>"
      ]
     },
     "metadata": {},
     "output_type": "display_data"
    }
   ],
   "source": [
    "residuals = get_residuals2(optimized_parameters2[\"x\"], \n",
    "                           parameters, \n",
    "                           df_kinetic_data, \n",
    "                           bool_signed = True) #We are using signed residuals\n",
    "residuals_CA = residuals[:int(len(residuals)/2)]\n",
    "residuals_CC = residuals[int(len(residuals)/2):]\n",
    "fig = plt.figure()\n",
    "ax1 = fig.add_subplot(211)\n",
    "ax2 = fig.add_subplot(212)\n",
    "\n",
    "ax1.scatter(df_kinetic_data.iloc[1:][\"Time\"], residuals_CA, color = 'red')\n",
    "ax1.xaxis.label.set_text(\"Time\")\n",
    "ax1.yaxis.label.set_text(\"Residuals in CA\")\n",
    "\n",
    "ax2.scatter(df_kinetic_data.iloc[1:][\"Time\"], residuals_CC, color = 'red')\n",
    "ax2.xaxis.label.set_text(\"Time\")\n",
    "ax2.yaxis.label.set_text(\"Residuals in CC\")"
   ]
  },
  {
   "cell_type": "code",
   "execution_count": 30,
   "metadata": {
    "collapsed": false
   },
   "outputs": [
    {
     "name": "stdout",
     "output_type": "stream",
     "text": [
      "Shapiro-Wilk statistic and p-value for CA residuals (0.968377411365509, 0.5165526866912842)\n",
      "Shapiro-Wilk statistic and p-value for CC residuals (0.9584166407585144, 0.30031222105026245)\n",
      "Mean and 95% confidence half-width for CA residuals -0.0474426266356 16.6888618545\n",
      "Mean and 95% confidence half-width for CC residuals 0.403939079014 11.6294892035\n"
     ]
    }
   ],
   "source": [
    "print(\"Shapiro-Wilk statistic and p-value for CA residuals\",scipy.stats.shapiro(residuals_CA))\n",
    "print(\"Shapiro-Wilk statistic and p-value for CC residuals\",scipy.stats.shapiro(residuals_CC))\n",
    "print('Mean and 95% confidence half-width for CA residuals',scipy.mean(residuals_CA), scipy.sqrt(scipy.var(residuals_CA))*1.96)\n",
    "print('Mean and 95% confidence half-width for CC residuals',scipy.mean(residuals_CC), scipy.sqrt(scipy.var(residuals_CC))*1.96)"
   ]
  },
  {
   "cell_type": "markdown",
   "metadata": {},
   "source": [
    "There is a definite pattern in the $C_C$ residuals! The residuals are correlated.  The Shapiro test missed it, but there it is.  This is because model in unable to capture the _decrease_ in $C_C$ with time.  Which is expected, since we haven't made any provision for it.  We have to update our model to incorporate the variation we see in $C_C$.\n",
    "We will put in a model for decay of C.\n",
    "Now there have been some iterations which will be boring to reproduce here.  For example the model\n",
    "The model:\n",
    "$$\n",
    "    C \\rightarrow D\n",
    "$$\n",
    "where $D$ stands for degradation products, resulted in correlated residuals. \n",
    "The model:\n",
    "$$\n",
    "    C + A \\rightarrow D\n",
    "$$\n",
    "got the uncorrelated signed residuals and the results we see below.  The additional kinetic constant to be fitted is $k_C$."
   ]
  },
  {
   "cell_type": "code",
   "execution_count": 31,
   "metadata": {
    "collapsed": true
   },
   "outputs": [],
   "source": [
    "def model2(SV, t, parameters):\n",
    "    [NA, NB, NC, V] = SV\n",
    "    \n",
    "    kAB = parameters[\"kAB\"]\n",
    "    v0 = parameters[\"v0\"]\n",
    "    CA0 = parameters[\"CA0\"]\n",
    "    kC = parameters[\"kC\"] #notice the additional fitting parameter.\n",
    "    \n",
    "    CA = NA/V\n",
    "    CB = NB/V\n",
    "    CC = NC/V\n",
    "    \n",
    "    dNAbydt = -V*kAB*CA*CB + v0*CA0 - V*kC*CC*CA #Notice the additional term for decay in C\n",
    "    dNBbydt = -V*kAB*CA*CB\n",
    "    dNCbydt =  V*kAB*CA*CB - V*kC*CC*CA #Notice the additional term for decay in C\n",
    "    dVbydt  =  v0\n",
    "    \n",
    "    return [dNAbydt, dNBbydt, dNCbydt, dVbydt]"
   ]
  },
  {
   "cell_type": "code",
   "execution_count": 32,
   "metadata": {
    "collapsed": true
   },
   "outputs": [],
   "source": [
    "def solution3(parameters, df_kinetic_data):\n",
    "    #Get the independent variable\n",
    "    t = df_kinetic_data[\"Time\"]\n",
    "    \n",
    "    #Lets prepare our SV0\n",
    "    V0 = df_kinetic_data.iloc[0][\"V\"]*0.001 #V0 is in litres.  Convert to m3\n",
    "    NA0 = df_kinetic_data.iloc[0][\"CA\"]*V0 #kmol\n",
    "    NB0 = parameters[\"CB0\"]*V0 #kmol\n",
    "    NC0 = df_kinetic_data.iloc[0][\"CC\"]*V0 #kmol\n",
    "    SV0 = [NA0, NB0, NC0, V0] \n",
    "    \n",
    "    #Solve with best guess of the parameters to be fitted\n",
    "    solution = scipy.integrate.odeint(model2, SV0, t, args=(parameters,)) #Note we have used model2\n",
    "    NA = solution[:,0]\n",
    "    NC = solution[:,2]\n",
    "    V = solution[:,3]  #be careful with the indices!\n",
    "    CA_calc = NA/V\n",
    "    CC_calc = NC/V\n",
    "    \n",
    "    return CA_calc, CC_calc"
   ]
  },
  {
   "cell_type": "code",
   "execution_count": 33,
   "metadata": {
    "collapsed": true
   },
   "outputs": [],
   "source": [
    "def get_residuals3(parameters_to_fit, parameters, df_kinetic_data):\n",
    "    CA_expt = df_kinetic_data.iloc[1:][\"CA\"]   # we are not going to fit the initial condition\n",
    "    errCA = df_kinetic_data.iloc[1:][\"errCA\"]\n",
    "    CC_expt = df_kinetic_data.iloc[1:][\"CC\"]\n",
    "    errCC = df_kinetic_data.iloc[1:][\"errCC\"]\n",
    "    \n",
    "    CA_avg = scipy.mean(CA_expt)\n",
    "    CC_avg = scipy.mean(CC_expt)\n",
    "    \n",
    "    wCA = 1.0/CA_avg\n",
    "    wCC = 1.0/CC_avg\n",
    "    \n",
    "    [kAB, v0, kC] = parameters_to_fit #The values here (first argument to the function) are automatically modified for optimization\n",
    "    parameters[\"kAB\"] = kAB  #Now we have our best guess of kAB\n",
    "    parameters[\"v0\"] = v0    #And our best guess of v0\n",
    "    parameters[\"kC\"] = kC    #Our new parameter\n",
    "    \n",
    "    CA_calc, CC_calc = solution3(parameters, df_kinetic_data) #note we have used solution3\n",
    "    \n",
    "    CA_calc = CA_calc[1:] #We are not fitting the initial condition.\n",
    "    CC_calc = CC_calc[1:]\n",
    "    residuals_CA = wCA*(CA_calc - CA_expt)/errCA \n",
    "    residuals_CC = wCC*(CC_calc - CC_expt)/errCC\n",
    "    residuals = scipy.concatenate([residuals_CA, residuals_CC])\n",
    "    return residuals"
   ]
  },
  {
   "cell_type": "code",
   "execution_count": 34,
   "metadata": {
    "collapsed": true
   },
   "outputs": [],
   "source": [
    "parameters = {\n",
    "    \"CA0\":0.5, #kmol/m3\n",
    "    \"CB0\":1.0, #kmol/m3\n",
    "    \"kAB\": optimized_parameters2['x'][0], #SI units best guess from previous fit\n",
    "    \"v0\": optimized_parameters2['x'][1], #m3/s best guess from previous fit\n",
    "    \"kC\": optimized_parameters2['x'][0]*0.1 #naive guess\n",
    "}\n",
    "kAB_opt, v0_opt, kC_opt = parameters[\"kAB\"], parameters[\"v0\"], parameters[\"kC\"]\n",
    "optimized_parameters3 = scipy.optimize.least_squares(get_residuals3, #our function\n",
    "                                                    [kAB_opt, v0_opt, kC_opt], #initial guess of parameters\n",
    "                                                    args = (parameters, df_kinetic_data,)) #other important arguments\n",
    "parameters[\"kAB\"], parameters[\"v0\"], parameters[\"kC\"] = optimized_parameters3[\"x\"]"
   ]
  },
  {
   "cell_type": "code",
   "execution_count": 35,
   "metadata": {
    "collapsed": false
   },
   "outputs": [
    {
     "name": "stdout",
     "output_type": "stream",
     "text": [
      "Initial Guess of Parameters 0.0413214504007 8.41392954359e-06 0.00413214504007\n",
      "Optimized Parameters [  4.76155374e-02   9.39284027e-06   2.54612217e-03]\n",
      "Cost Function 1106.13990126\n"
     ]
    }
   ],
   "source": [
    "print('Initial Guess of Parameters',kAB_opt, v0_opt, kC_opt)\n",
    "print('Optimized Parameters', optimized_parameters3['x'])\n",
    "print('Cost Function',optimized_parameters3['cost']) "
   ]
  },
  {
   "cell_type": "markdown",
   "metadata": {},
   "source": [
    "So the first two did not change all that much, but the third parameter is a small finite number."
   ]
  },
  {
   "cell_type": "markdown",
   "metadata": {},
   "source": [
    "## A Quick Dekko"
   ]
  },
  {
   "cell_type": "code",
   "execution_count": 36,
   "metadata": {
    "collapsed": true
   },
   "outputs": [],
   "source": [
    "CA_calc, CC_calc = solution3(parameters, df_kinetic_data)"
   ]
  },
  {
   "cell_type": "code",
   "execution_count": 37,
   "metadata": {
    "collapsed": false
   },
   "outputs": [
    {
     "data": {
      "image/png": "[encoded data removed]",
      "text/plain": [
       "<matplotlib.figure.Figure at 0x11630ff4128>"
      ]
     },
     "metadata": {},
     "output_type": "display_data"
    }
   ],
   "source": [
    "fig = plt.figure()\n",
    "ax1 = fig.add_subplot(211)\n",
    "ax2 = fig.add_subplot(212)\n",
    "ax1.errorbar(x=df_kinetic_data[\"Time\"], \n",
    "             y=df_kinetic_data[\"CA\"], \n",
    "             yerr=df_kinetic_data[\"errCA\"],\n",
    "             color = 'r', fmt = 'o', ecolor = 'r', capthick = 2)\n",
    "ax1.plot(df_kinetic_data[\"Time\"], CA_calc, 'b')\n",
    "ax1.xaxis.label.set_text(\"Time in seconds\")\n",
    "ax1.yaxis.label.set_text(\"Concentration of A\")\n",
    "\n",
    "ax2.errorbar(x=df_kinetic_data[\"Time\"], \n",
    "             y=df_kinetic_data[\"CC\"], \n",
    "             yerr=df_kinetic_data[\"errCC\"],\n",
    "             color = 'r', fmt = 'o', ecolor = 'r', capthick = 2)\n",
    "ax2.plot(df_kinetic_data[\"Time\"], CC_calc, 'b')\n",
    "ax2.xaxis.label.set_text(\"Time in seconds\")\n",
    "ax2.yaxis.label.set_text(\"Concentration of C\")"
   ]
  },
  {
   "cell_type": "code",
   "execution_count": 38,
   "metadata": {
    "collapsed": false
   },
   "outputs": [
    {
     "data": {
      "image/png": "[encoded data removed]",
      "text/plain": [
       "<matplotlib.figure.Figure at 0x11630f7c630>"
      ]
     },
     "metadata": {},
     "output_type": "display_data"
    }
   ],
   "source": [
    "residuals = get_residuals3(optimized_parameters3[\"x\"], \n",
    "                           parameters, \n",
    "                           df_kinetic_data, \n",
    "                           )\n",
    "residuals_CA = residuals[:int(len(residuals)/2)]\n",
    "residuals_CC = residuals[int(len(residuals)/2):]\n",
    "fig = plt.figure()\n",
    "ax1 = fig.add_subplot(211)\n",
    "ax2 = fig.add_subplot(212)\n",
    "\n",
    "ax1.scatter(df_kinetic_data.iloc[1:][\"Time\"], residuals_CA, color = 'red')\n",
    "ax1.xaxis.label.set_text(\"Time\")\n",
    "ax1.yaxis.label.set_text(\"Residuals in CA\")\n",
    "\n",
    "ax2.scatter(df_kinetic_data.iloc[1:][\"Time\"], residuals_CC, color = 'red')\n",
    "ax2.xaxis.label.set_text(\"Time\")\n",
    "ax2.yaxis.label.set_text(\"Residuals in CC\")"
   ]
  },
  {
   "cell_type": "code",
   "execution_count": 39,
   "metadata": {
    "collapsed": false
   },
   "outputs": [
    {
     "name": "stdout",
     "output_type": "stream",
     "text": [
      "Shapiro-Wilk statistic and p-value for CA residuals (0.9708558917045593, 0.5831331014633179)\n",
      "Shapiro-Wilk statistic and p-value for CC residuals (0.9594382047653198, 0.3183991014957428)\n",
      "Mean and 95% confidence half-width for CA residuals -0.298167013419 16.1990274906\n",
      "Mean and 95% confidence half-width for CC residuals -0.850598111063 5.24680186579\n"
     ]
    }
   ],
   "source": [
    "print(\"Shapiro-Wilk statistic and p-value for CA residuals\",scipy.stats.shapiro(residuals_CA))\n",
    "print(\"Shapiro-Wilk statistic and p-value for CC residuals\",scipy.stats.shapiro(residuals_CC))\n",
    "print('Mean and 95% confidence half-width for CA residuals',scipy.mean(residuals_CA), scipy.sqrt(scipy.var(residuals_CA))*1.96)\n",
    "print('Mean and 95% confidence half-width for CC residuals',scipy.mean(residuals_CC), scipy.sqrt(scipy.var(residuals_CC))*1.96)"
   ]
  },
  {
   "cell_type": "markdown",
   "metadata": {},
   "source": [
    "No pattern, passes the Shapiro test and has a mean at zero with 95% confidence.  "
   ]
  },
  {
   "cell_type": "markdown",
   "metadata": {
    "collapsed": true
   },
   "source": [
    "## Error Analysis\n",
    "Let's get the covariance matrix first.  Only now we the TWO of them.  One for $C_A$ and the other for $C_C$!"
   ]
  },
  {
   "cell_type": "code",
   "execution_count": 40,
   "metadata": {
    "collapsed": false
   },
   "outputs": [
    {
     "name": "stdout",
     "output_type": "stream",
     "text": [
      "The covariance matrix with respect to CA is: \n",
      "[[  8.08938165e-05   1.18242877e-08   3.12118279e-05]\n",
      " [  1.18242877e-08   1.78393300e-12   4.76469998e-09]\n",
      " [  3.12118279e-05   4.76469998e-09   1.29802853e-05]]\n",
      "The covariance matrix with respect to CC is: \n",
      "[[  3.57144368e-04  -2.08224461e-08   5.34601078e-05]\n",
      " [ -2.08224461e-08   1.40043616e-12  -3.29584244e-09]\n",
      " [  5.34601078e-05  -3.29584244e-09   8.69585750e-06]]\n"
     ]
    }
   ],
   "source": [
    "kAB_opt, v0_opt, kC_opt = optimized_parameters3['x']\n",
    "\n",
    "dn = 0.001\n",
    "parameters[\"kAB\"], parameters[\"v0\"], parameters[\"kC\"] = kAB_opt, v0_opt, kC_opt\n",
    "CA_calc_opt, CC_calc_opt = solution3(parameters, df_kinetic_data)\n",
    "\n",
    "parameters[\"kAB\"], parameters[\"v0\"], parameters[\"kC\"] = kAB_opt*(1+dn), v0_opt, kC_opt\n",
    "CA_calc_1, CC_calc_1 = solution3(parameters, df_kinetic_data)\n",
    "\n",
    "parameters[\"kAB\"], parameters[\"v0\"], parameters[\"kC\"] = kAB_opt, v0_opt*(1+dn), kC_opt\n",
    "CA_calc_2, CC_calc_2 = solution3(parameters, df_kinetic_data)\n",
    "\n",
    "parameters[\"kAB\"], parameters[\"v0\"], parameters[\"kC\"] = kAB_opt, v0_opt, kC_opt*(1+dn)\n",
    "CA_calc_3, CC_calc_3 = solution3(parameters, df_kinetic_data)\n",
    "\n",
    "#Getting d1, d2, d3 for CA by numerical differentiation\n",
    "d1_CA = (CA_calc_1 - CA_calc_opt)/(kAB_opt*dn); d1_CA = d1_CA[1:]\n",
    "d2_CA = (CA_calc_2 - CA_calc_opt)/(v0_opt *dn); d2_CA = d2_CA[1:]\n",
    "d3_CA = (CA_calc_3 - CA_calc_opt)/(kC_opt *dn); d3_CA = d3_CA[1:]\n",
    "\n",
    "#Getting d1, d2, d3 for CC by numerical differentiation\n",
    "d1_CC = (CC_calc_1 - CC_calc_opt)/(kAB_opt*dn); d1_CC = d1_CC[1:] \n",
    "d2_CC = (CC_calc_2 - CC_calc_opt)/(v0_opt *dn); d2_CC = d2_CC[1:]\n",
    "d3_CC = (CC_calc_3 - CC_calc_opt)/(kC_opt *dn); d3_CC = d3_CC[1:]\n",
    "\n",
    "errCA = df_kinetic_data.iloc[1:][\"errCA\"]\n",
    "A_CA = scipy.array([list(d1_CA/errCA), list(d2_CA/errCA), list(d3_CA/errCA)]).T\n",
    "\n",
    "errCC = df_kinetic_data.iloc[1:][\"errCC\"]\n",
    "A_CC = scipy.array([list(d1_CC/errCC), list(d2_CC/errCC), list(d3_CC/errCC)]).T\n",
    "\n",
    "H_CA = scipy.dot(A_CA.T, A_CA)\n",
    "C_CA = scipy.linalg.inv(H_CA)\n",
    "print(\"The covariance matrix with respect to CA is: \")\n",
    "print(C_CA)\n",
    "\n",
    "H_CC = scipy.dot(A_CC.T, A_CC)\n",
    "C_CC = scipy.linalg.inv(H_CC)\n",
    "print(\"The covariance matrix with respect to CC is: \")\n",
    "print(C_CC)"
   ]
  },
  {
   "cell_type": "code",
   "execution_count": 41,
   "metadata": {
    "collapsed": false
   },
   "outputs": [
    {
     "name": "stdout",
     "output_type": "stream",
     "text": [
      "kAB 0.0476155374055\n",
      "Uncertainty in kAB with respect to CA is 0.0176284340049 i.e. 37.0224405005 percent.\n",
      "95 percent confidence interval for k_AB with respect to CA is: ( 0.0299871034006 , 0.0652439714105 )\n",
      "Uncertainty in kAB with respect to CC is 0.0370405966989 i.e. 77.7909873902 percent.\n",
      "95 percent confidence interval for k_AB with respect to CC is: ( 0.0105749407066 , 0.0846561341045 )\n"
     ]
    }
   ],
   "source": [
    "print('kAB',parameters[\"kAB\"])\n",
    "print('Uncertainty in kAB with respect to CA is',\n",
    "      1.96*scipy.sqrt(C_CA[0,0]),\n",
    "      'i.e.',\n",
    "      1.96*scipy.sqrt(C_CA[0,0])/parameters[\"kAB\"]*100,\n",
    "      'percent.')\n",
    "print('95 percent confidence interval for k_AB with respect to CA is: (',\n",
    "      parameters['kAB']-1.96*scipy.sqrt(C_CA[0,0]),\n",
    "      ',',\n",
    "      parameters['kAB']+1.96*scipy.sqrt(C_CA[0,0]),\n",
    "      ')')\n",
    "print('Uncertainty in kAB with respect to CC is',\n",
    "      1.96*scipy.sqrt(C_CC[0,0]),\n",
    "      'i.e.',\n",
    "      1.96*scipy.sqrt(C_CC[0,0])/parameters[\"kAB\"]*100,\n",
    "      'percent.')\n",
    "print('95 percent confidence interval for k_AB with respect to CC is: (',\n",
    "      parameters['kAB']-1.96*scipy.sqrt(C_CC[0,0]),\n",
    "      ',',\n",
    "      parameters['kAB']+1.96*scipy.sqrt(C_CC[0,0]),\n",
    "      ')')"
   ]
  },
  {
   "cell_type": "code",
   "execution_count": 42,
   "metadata": {
    "collapsed": false
   },
   "outputs": [
    {
     "name": "stdout",
     "output_type": "stream",
     "text": [
      "v0 9.39284027186e-06\n",
      "Uncertainty in v0 with respect to CA is: 2.61785350968e-06 i.e. 27.8707338134 percent.\n",
      "95 percent confidence interval for v0 with respect to CA: ( 6.77498676217e-06 , 1.20106937815e-05 )\n",
      "Uncertainty in v0 with respect to CC is: 2.3194644989e-06 i.e. 24.6939629736 percent.\n",
      "95 percent confidence interval for v0 with respect to CC: ( 7.07337577296e-06 , 1.17123047708e-05 )\n"
     ]
    }
   ],
   "source": [
    "print('v0',parameters[\"v0\"])\n",
    "print('Uncertainty in v0 with respect to CA is:',\n",
    "      1.96*scipy.sqrt(C_CA[1,1]),\n",
    "      'i.e.',\n",
    "      1.96*scipy.sqrt(C_CA[1,1])/parameters[\"v0\"]*100,\n",
    "      'percent.')\n",
    "print('95 percent confidence interval for v0 with respect to CA: (',\n",
    "      parameters['v0']-1.96*scipy.sqrt(C_CA[1,1]),\n",
    "      ',',\n",
    "      parameters['v0']+1.96*scipy.sqrt(C_CA[1,1]),\n",
    "      ')')\n",
    "print('Uncertainty in v0 with respect to CC is:',\n",
    "      1.96*scipy.sqrt(C_CC[1,1]),\n",
    "      'i.e.',\n",
    "      1.96*scipy.sqrt(C_CC[1,1])/parameters[\"v0\"]*100,\n",
    "      'percent.')\n",
    "print('95 percent confidence interval for v0 with respect to CC: (',\n",
    "      parameters['v0']-1.96*scipy.sqrt(C_CC[1,1]),\n",
    "      ',',\n",
    "      parameters['v0']+1.96*scipy.sqrt(C_CC[1,1]),\n",
    "      ')')"
   ]
  },
  {
   "cell_type": "code",
   "execution_count": 43,
   "metadata": {
    "collapsed": false
   },
   "outputs": [
    {
     "name": "stdout",
     "output_type": "stream",
     "text": [
      "kC 0.00254866829118\n",
      "Uncertainty in kC with respect to CA is: 0.00706151995001 i.e. 277.067046129 percent.\n",
      "95 percent confidence interval for kC with respect to CA: ( -0.00451285165883 , 0.0096101882412 )\n",
      "Uncertainty in kC with respect to CC is: 0.00577979291776 i.e. 226.77697752 percent.\n",
      "95 percent confidence interval for kC with respect to CC: ( -0.00323112462658 , 0.00832846120894 )\n"
     ]
    }
   ],
   "source": [
    "print('kC',parameters[\"kC\"])\n",
    "print('Uncertainty in kC with respect to CA is:',\n",
    "      1.96*scipy.sqrt(C_CA[2,2]),\n",
    "      'i.e.',\n",
    "      1.96*scipy.sqrt(C_CA[2,2])/parameters[\"kC\"]*100,\n",
    "      'percent.')\n",
    "print('95 percent confidence interval for kC with respect to CA: (',\n",
    "      parameters['kC']-1.96*scipy.sqrt(C_CA[2,2]),\n",
    "      ',',\n",
    "      parameters['kC']+1.96*scipy.sqrt(C_CA[2,2]),\n",
    "      ')')\n",
    "print('Uncertainty in kC with respect to CC is:',\n",
    "      1.96*scipy.sqrt(C_CC[2,2]),\n",
    "      'i.e.',\n",
    "      1.96*scipy.sqrt(C_CC[2,2])/parameters[\"kC\"]*100,\n",
    "      'percent.')\n",
    "print('95 percent confidence interval for kC with respect to CC: (',\n",
    "      parameters['kC']-1.96*scipy.sqrt(C_CC[2,2]),\n",
    "      ',',\n",
    "      parameters['kC']+1.96*scipy.sqrt(C_CC[2,2]),\n",
    "      ')') "
   ]
  },
  {
   "cell_type": "markdown",
   "metadata": {
    "collapsed": true
   },
   "source": [
    "These are pretty high uncertainties and actually call into question the integrity of the model proposed.  It is very likely that the model is just wrong and another should be tried.  Anyway, sticking to this model, lets get the uncertainties in the best fit lines.  "
   ]
  },
  {
   "cell_type": "code",
   "execution_count": 44,
   "metadata": {
    "collapsed": false
   },
   "outputs": [],
   "source": [
    "D_CA = scipy.array([list(d1_CA), list(d2_CA), list(d3_CA)]).T\n",
    "sigma_CA = []\n",
    "for d in D_CA:\n",
    "    sig = scipy.dot(d, scipy.dot(C_CA, d.T))\n",
    "    sigma_CA.append(1.96*scipy.sqrt(sig)) #Where we have used the 95% interval.\n",
    "sigma_CA = scipy.array(sigma_CA)\n",
    "upper_bound_CA = CA_calc[1:] + sigma_CA\n",
    "lower_bound_CA = CA_calc[1:] - sigma_CA\n",
    "time = df_kinetic_data.iloc[1:][\"Time\"]\n",
    "\n",
    "D_CC = scipy.array([list(d1_CC), list(d2_CC), list(d3_CC)]).T\n",
    "sigma_CC = []\n",
    "for d in D_CC:\n",
    "    sig = scipy.dot(d, scipy.dot(C_CC, d.T))\n",
    "    sigma_CC.append(1.96*scipy.sqrt(sig)) #Where we have used the 95% interval.\n",
    "sigma_CC = scipy.array(sigma_CC)\n",
    "upper_bound_CC = CC_calc[1:] + sigma_CC\n",
    "lower_bound_CC = CC_calc[1:] - sigma_CC\n",
    "time = df_kinetic_data.iloc[1:][\"Time\"]"
   ]
  },
  {
   "cell_type": "code",
   "execution_count": 45,
   "metadata": {
    "collapsed": false
   },
   "outputs": [
    {
     "data": {
      "image/png": "[encoded data removed]",
      "text/plain": [
       "<matplotlib.figure.Figure at 0x11630446d68>"
      ]
     },
     "metadata": {},
     "output_type": "display_data"
    }
   ],
   "source": [
    "figure = plt.figure()\n",
    "ax1 = figure.add_subplot(211)\n",
    "ax2 = figure.add_subplot(212)\n",
    "\n",
    "ax1.errorbar(x=df_kinetic_data[\"Time\"], \n",
    "             y=df_kinetic_data[\"CA\"], \n",
    "             yerr=df_kinetic_data[\"errCA\"],\n",
    "             color = 'red', fmt = '*', ecolor = 'blue', capthick = 0.05)\n",
    "ax1.plot(df_kinetic_data[\"Time\"], CA_calc, 'blue', linewidth = 1.0)\n",
    "ax1.fill_between(time, lower_bound_CA, upper_bound_CA, color='cyan', alpha = 0.5)\n",
    "ax1.xaxis.label.set_text(\"Time in seconds\")\n",
    "ax1.yaxis.label.set_text(\"Concentration of A\")\n",
    "\n",
    "ax2.errorbar(x=df_kinetic_data[\"Time\"], \n",
    "             y=df_kinetic_data[\"CC\"], \n",
    "             yerr=df_kinetic_data[\"errCC\"],\n",
    "             color = 'red', fmt = '*', ecolor = 'blue', capthick = 0.05)\n",
    "ax2.plot(df_kinetic_data[\"Time\"], CC_calc, 'blue', linewidth = 1.0)\n",
    "ax2.fill_between(time, lower_bound_CC, upper_bound_CC, color='cyan', alpha = 0.5)\n",
    "ax2.xaxis.label.set_text(\"Time in seconds\")\n",
    "ax2.yaxis.label.set_text(\"Concentration of C\")"
   ]
  },
  {
   "cell_type": "markdown",
   "metadata": {},
   "source": [
    "Ok.  Not so bad.  The uncertainty in the fits is rather small.  Nothing like the uncertainty in the parameters.  It is possible that there is a superfluous parameter.  The only thing to do is to keep refining the model until you get reasonable uncertainties.  "
   ]
  },
  {
   "cell_type": "markdown",
   "metadata": {},
   "source": [
    "Oh, and welcome to the real world. Yeah, its messy.  "
   ]
  }
 ],
 "metadata": {
  "kernelspec": {
   "display_name": "Python 3",
   "language": "python",
   "name": "python3"
  },
  "language_info": {
   "codemirror_mode": {
    "name": "ipython",
    "version": 3
   },
   "file_extension": ".py",
   "mimetype": "text/x-python",
   "name": "python",
   "nbconvert_exporter": "python",
   "pygments_lexer": "ipython3",
   "version": "3.6.0"
  }
 },
 "nbformat": 4,
 "nbformat_minor": 2
}
